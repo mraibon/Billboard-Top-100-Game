{
 "cells": [
  {
   "cell_type": "markdown",
   "id": "b209a4ca",
   "metadata": {},
   "source": [
    "# Can You Guess The Billboard Year-End Hot 100 Singles of the Year (2000 - 2023)?\n",
    "## Introduction\n",
    "Do you think you're a music expert? Find out by playing this fun game to guess the Billboard Hot 100 singles of the year! This game only includes the songs from the years between 2000 and 2023. You will have 5 attempts to guess the song - after each failed attempt, you will receive a hint to help you along the way.\n",
    "\n",
    "This game uses data extracted from Wikipedia."
   ]
  },
  {
   "cell_type": "markdown",
   "id": "392c093a",
   "metadata": {},
   "source": [
    "Please download the csv [here](https://github.com/mraibon/Billboard-Top-100-Game/blob/da0c7b87d32e329761eeac567afc755b78ca8930/billboard_top_songs.csv), but do your best not to look at the data (that's where the answers are!) Please save the csv to your computer and copy the file path in the below cell:"
   ]
  },
  {
   "cell_type": "code",
   "execution_count": 5,
   "id": "d6577305",
   "metadata": {},
   "outputs": [],
   "source": [
    "game = pd.read_csv(r'<INSERT FILE PATH HERE>')"
   ]
  },
  {
   "cell_type": "markdown",
   "id": "9df11e94",
   "metadata": {
    "heading_collapsed": true
   },
   "source": [
    "## Script for the Game"
   ]
  },
  {
   "cell_type": "code",
   "execution_count": 7,
   "id": "02caf3a3",
   "metadata": {
    "hidden": true
   },
   "outputs": [],
   "source": [
    "def billboard_number_one_hit_game():\n",
    "    while True: # allows the user to play again\n",
    "        year = input(\"Please enter a year between 2000 and 2023:\").strip() \n",
    "        \n",
    "        # only accepts digits\n",
    "        if not year.isdigit():\n",
    "            print(\"Please enter a valid year.\")\n",
    "            continue\n",
    "        \n",
    "        # only accepts years between 2000 and 2023\n",
    "        if not 2000 <= int(year) <= 2023:\n",
    "            print(\"Please only enter a year between 2000 and 2023.\")\n",
    "            continue\n",
    "        \n",
    "        # convert the year to an integer so the function will work\n",
    "        year = int(year)\n",
    "        \n",
    "        \n",
    "        details = game[game['year'] == year].iloc[0] # get all information from the row of the year entered\n",
    "        answer = details['song'] # song name (answer we want)\n",
    "        artist = details['artist'] # artist name \n",
    "        \n",
    "        # list of clues that will be given to the user until the last attempt\n",
    "        clues =  ['The song is by a '+ details['solo_band'], \n",
    "                  'The song is sung by a ' + details['m_f'] + ' artist', \n",
    "                  'The genre is ' + details['genre'], \n",
    "                  'The artist is ' + details['artist']]\n",
    "\n",
    "        guesses = 1\n",
    "        max_guesses = 5\n",
    "        \n",
    "        # if the user guesses correctly, they will receive a congrats and a prompt with the option to play again (below)\n",
    "        # up until the last attempt, the user will receive clues after failed attempts\n",
    "        # .replace(!,'') is only used for the 2004 #1 hit, which was \"Yeah!\" - \"Yeah\" is also an acceptable answer\n",
    "        while guesses < max_guesses:\n",
    "            guess = input('Enter your guess:').strip()\n",
    "            if (guess.lower() == answer.lower()) or (guess.lower() == answer.lower().replace('!','')):\n",
    "                print('Congrats! You\\'re a music expert! The answer is ' + answer + ' by ' + artist + '.')\n",
    "                break # ends this while loop\n",
    "            else:\n",
    "                print('Good guess, but no. Here\\'s a clue: ' + clues[guesses - 1] + '.')\n",
    "                guesses += 1\n",
    "        \n",
    "        # last attempt\n",
    "        if guesses == 5:\n",
    "            final_guess = input(\"FINAL TRY: \")\n",
    "            if final_guess.lower() == answer.lower():\n",
    "                print('Congrats! You\\'re a music expert! The answer is ' + answer + ' by ' + artist + '.')\n",
    "            else:\n",
    "                print('Better luck next time. The answer is: ' + answer + ' by ' + artist + '.')\n",
    "                \n",
    "        # option to play again\n",
    "        playagain = input(\"Would you like to play again?\").strip().lower()\n",
    "        if playagain == 'yes':\n",
    "            continue # restarts the game\n",
    "        else:\n",
    "            break # ends the game"
   ]
  },
  {
   "cell_type": "markdown",
   "id": "670e6263",
   "metadata": {},
   "source": [
    "## Play the Game!\n",
    "Please run the below function to start the game."
   ]
  },
  {
   "cell_type": "code",
   "execution_count": null,
   "id": "1c9fc6a2",
   "metadata": {},
   "outputs": [],
   "source": [
    "billboard_number_one_hit_game()"
   ]
  }
 ],
 "metadata": {
  "kernelspec": {
   "display_name": "Python 3 (ipykernel)",
   "language": "python",
   "name": "python3"
  },
  "language_info": {
   "codemirror_mode": {
    "name": "ipython",
    "version": 3
   },
   "file_extension": ".py",
   "mimetype": "text/x-python",
   "name": "python",
   "nbconvert_exporter": "python",
   "pygments_lexer": "ipython3",
   "version": "3.11.5"
  }
 },
 "nbformat": 4,
 "nbformat_minor": 5
}
